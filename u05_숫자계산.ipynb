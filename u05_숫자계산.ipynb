{
  "nbformat": 4,
  "nbformat_minor": 0,
  "metadata": {
    "colab": {
      "name": "u05_숫자계산.ipynb",
      "provenance": [],
      "collapsed_sections": []
    },
    "kernelspec": {
      "name": "python3",
      "display_name": "Python 3"
    },
    "language_info": {
      "name": "python"
    }
  },
  "cells": [
    {
      "cell_type": "markdown",
      "metadata": {
        "id": "HUetY5LUo5Y6"
      },
      "source": [
        "# Unit 5. 숫자 계산하기"
      ]
    },
    {
      "cell_type": "markdown",
      "metadata": {
        "id": "BuQiGXtDqqkA"
      },
      "source": [
        "5.1 정수"
      ]
    },
    {
      "cell_type": "code",
      "metadata": {
        "colab": {
          "base_uri": "https://localhost:8080/"
        },
        "id": "YB_bZnAloxuV",
        "outputId": "4207e9a8-c234-4daa-f1a1-c7c16650f827"
      },
      "source": [
        "# 4칙 연산, +, -, *, /, %, //\n",
        "5 / 2"
      ],
      "execution_count": 1,
      "outputs": [
        {
          "output_type": "execute_result",
          "data": {
            "text/plain": [
              "2.5"
            ]
          },
          "metadata": {
            "tags": []
          },
          "execution_count": 1
        }
      ]
    },
    {
      "cell_type": "code",
      "metadata": {
        "colab": {
          "base_uri": "https://localhost:8080/"
        },
        "id": "30ecNmUxq1kf",
        "outputId": "558f0019-b3fe-4fbd-838b-13ad4f78ac03"
      },
      "source": [
        "# % - module, 나머지\n",
        "5 % 2"
      ],
      "execution_count": 2,
      "outputs": [
        {
          "output_type": "execute_result",
          "data": {
            "text/plain": [
              "1"
            ]
          },
          "metadata": {
            "tags": []
          },
          "execution_count": 2
        }
      ]
    },
    {
      "cell_type": "code",
      "metadata": {
        "colab": {
          "base_uri": "https://localhost:8080/"
        },
        "id": "v0VMWNT5twM0",
        "outputId": "aba3c3b0-9896-4ef8-dcde-5aae3b11e2ec"
      },
      "source": [
        "# 3의 배수 = 어떤 숫자를 3으로 모듈로 연산을 했을 떄 결과가 0\n",
        "6 % 3"
      ],
      "execution_count": 3,
      "outputs": [
        {
          "output_type": "execute_result",
          "data": {
            "text/plain": [
              "0"
            ]
          },
          "metadata": {
            "tags": []
          },
          "execution_count": 3
        }
      ]
    },
    {
      "cell_type": "code",
      "metadata": {
        "colab": {
          "base_uri": "https://localhost:8080/"
        },
        "id": "zPQ3Jnzquowp",
        "outputId": "69d77ed7-932b-4502-be90-41c1d82172b1"
      },
      "source": [
        "# 거듭 제곱\n",
        "2 ** 10"
      ],
      "execution_count": 5,
      "outputs": [
        {
          "output_type": "execute_result",
          "data": {
            "text/plain": [
              "1024"
            ]
          },
          "metadata": {
            "tags": []
          },
          "execution_count": 5
        }
      ]
    },
    {
      "cell_type": "markdown",
      "metadata": {
        "id": "Fu0Qvo-6vaBN"
      },
      "source": [
        "값을 정수로 변환"
      ]
    },
    {
      "cell_type": "code",
      "metadata": {
        "colab": {
          "base_uri": "https://localhost:8080/"
        },
        "id": "Wt8k7-_KurRV",
        "outputId": "a6714c58-c32a-4de7-bf58-63f7ca5ffbfe"
      },
      "source": [
        "int(3.14)"
      ],
      "execution_count": 7,
      "outputs": [
        {
          "output_type": "execute_result",
          "data": {
            "text/plain": [
              "3"
            ]
          },
          "metadata": {
            "tags": []
          },
          "execution_count": 7
        }
      ]
    },
    {
      "cell_type": "code",
      "metadata": {
        "colab": {
          "base_uri": "https://localhost:8080/"
        },
        "id": "gnbVv1t3veav",
        "outputId": "4bfd221e-1b4c-4dc3-fe31-5b594e1395d7"
      },
      "source": [
        "# 'single quote', \"double quote\"\n",
        "int('55')"
      ],
      "execution_count": 8,
      "outputs": [
        {
          "output_type": "execute_result",
          "data": {
            "text/plain": [
              "55"
            ]
          },
          "metadata": {
            "tags": []
          },
          "execution_count": 8
        }
      ]
    },
    {
      "cell_type": "code",
      "metadata": {
        "colab": {
          "base_uri": "https://localhost:8080/"
        },
        "id": "HWnBNaVZwEff",
        "outputId": "ee78e770-5121-4a7f-f20f-e77b96182221"
      },
      "source": [
        "string = '55'\n",
        "value = int(string)\n",
        "string, value"
      ],
      "execution_count": 9,
      "outputs": [
        {
          "output_type": "execute_result",
          "data": {
            "text/plain": [
              "('55', 55)"
            ]
          },
          "metadata": {
            "tags": []
          },
          "execution_count": 9
        }
      ]
    },
    {
      "cell_type": "code",
      "metadata": {
        "colab": {
          "base_uri": "https://localhost:8080/"
        },
        "id": "zeyQZIq_wJaL",
        "outputId": "afad449a-4e17-41d9-adc3-8b09908f4847"
      },
      "source": [
        "type(string), type(value), type(3.14)      #floting point\n"
      ],
      "execution_count": 11,
      "outputs": [
        {
          "output_type": "execute_result",
          "data": {
            "text/plain": [
              "(str, int, float)"
            ]
          },
          "metadata": {
            "tags": []
          },
          "execution_count": 11
        }
      ]
    },
    {
      "cell_type": "code",
      "metadata": {
        "colab": {
          "base_uri": "https://localhost:8080/"
        },
        "id": "oF7i95-MwXEY",
        "outputId": "dea15141-c029-476d-f27b-47db8630021b"
      },
      "source": [
        "# 몫과 나머지를 동시에 계산 divmod(5, 2)\n",
        "q, r = 5 // 2, 5 % 2\n",
        "q, r"
      ],
      "execution_count": 12,
      "outputs": [
        {
          "output_type": "execute_result",
          "data": {
            "text/plain": [
              "(2, 1)"
            ]
          },
          "metadata": {
            "tags": []
          },
          "execution_count": 12
        }
      ]
    },
    {
      "cell_type": "markdown",
      "metadata": {
        "id": "nCLIw_84x2Lc"
      },
      "source": [
        "진수"
      ]
    },
    {
      "cell_type": "code",
      "metadata": {
        "colab": {
          "base_uri": "https://localhost:8080/"
        },
        "id": "e4_a8EG4xr-8",
        "outputId": "b6326482-e5dd-4fab-df03-647ec097de56"
      },
      "source": [
        "# 2진수, 8진수, 16진수\n",
        "0b101, 0o5,0x5"
      ],
      "execution_count": 13,
      "outputs": [
        {
          "output_type": "execute_result",
          "data": {
            "text/plain": [
              "(5, 5, 5)"
            ]
          },
          "metadata": {
            "tags": []
          },
          "execution_count": 13
        }
      ]
    },
    {
      "cell_type": "code",
      "metadata": {
        "colab": {
          "base_uri": "https://localhost:8080/"
        },
        "id": "C7bKdy5ay3Uy",
        "outputId": "46e2afdb-b5c3-40bf-ed93-19094234848e"
      },
      "source": [
        "0xa6"
      ],
      "execution_count": 14,
      "outputs": [
        {
          "output_type": "execute_result",
          "data": {
            "text/plain": [
              "166"
            ]
          },
          "metadata": {
            "tags": []
          },
          "execution_count": 14
        }
      ]
    },
    {
      "cell_type": "code",
      "metadata": {
        "id": "MSmTKXtBy8xq"
      },
      "source": [
        "# red - 0xff0000, green - 0x00ff00,  blue - 0x0000ff\n",
        "#         #ffffff  회색, #888888, #444444\n",
        "\n",
        "# 16진수는 컴퓨터를 하겠다고 한다면 16진수는 알고 계셔야 합니다."
      ],
      "execution_count": null,
      "outputs": []
    },
    {
      "cell_type": "markdown",
      "metadata": {
        "id": "WoG1plexzsUV"
      },
      "source": [
        "5.2 실수"
      ]
    },
    {
      "cell_type": "code",
      "metadata": {
        "colab": {
          "base_uri": "https://localhost:8080/"
        },
        "id": "FTn8JP4PzuG3",
        "outputId": "1344c0c9-5346-4604-f502-b2ebca5b41a9"
      },
      "source": [
        "4.3 - 2.7"
      ],
      "execution_count": 15,
      "outputs": [
        {
          "output_type": "execute_result",
          "data": {
            "text/plain": [
              "1.5999999999999996"
            ]
          },
          "metadata": {
            "tags": []
          },
          "execution_count": 15
        }
      ]
    },
    {
      "cell_type": "code",
      "metadata": {
        "colab": {
          "base_uri": "https://localhost:8080/"
        },
        "id": "dECQ1zlLzwYz",
        "outputId": "189c4c13-5f8f-49b4-92ba-e62490a5f7e4"
      },
      "source": [
        "4.3 - 2.7 == 1.6"
      ],
      "execution_count": 16,
      "outputs": [
        {
          "output_type": "execute_result",
          "data": {
            "text/plain": [
              "False"
            ]
          },
          "metadata": {
            "tags": []
          },
          "execution_count": 16
        }
      ]
    },
    {
      "cell_type": "code",
      "metadata": {
        "colab": {
          "base_uri": "https://localhost:8080/"
        },
        "id": "-m-yF4eA2E99",
        "outputId": "e17188b3-9d74-49a0-eccf-eaa837fdca7c"
      },
      "source": [
        "import numpy as np\n",
        "np.abs((4.3-2.7) - 1.6) < 1e-10"
      ],
      "execution_count": 17,
      "outputs": [
        {
          "output_type": "execute_result",
          "data": {
            "text/plain": [
              "True"
            ]
          },
          "metadata": {
            "tags": []
          },
          "execution_count": 17
        }
      ]
    },
    {
      "cell_type": "code",
      "metadata": {
        "colab": {
          "base_uri": "https://localhost:8080/"
        },
        "id": "dRuh5vF42Pzb",
        "outputId": "39bca53e-7161-4a42-c568-5e0b3c568106"
      },
      "source": [
        "4.2 + 5\n"
      ],
      "execution_count": 18,
      "outputs": [
        {
          "output_type": "execute_result",
          "data": {
            "text/plain": [
              "9.2"
            ]
          },
          "metadata": {
            "tags": []
          },
          "execution_count": 18
        }
      ]
    },
    {
      "cell_type": "code",
      "metadata": {
        "id": "dHlVhEFd2T5l"
      },
      "source": [
        "4.2 | float"
      ],
      "execution_count": null,
      "outputs": []
    }
  ]
}