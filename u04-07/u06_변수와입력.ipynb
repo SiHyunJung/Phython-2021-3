{
  "nbformat": 4,
  "nbformat_minor": 0,
  "metadata": {
    "colab": {
      "name": "u06_변수와입력.ipynb",
      "provenance": [],
      "collapsed_sections": []
    },
    "kernelspec": {
      "name": "python3",
      "display_name": "Python 3"
    },
    "language_info": {
      "name": "python"
    }
  },
  "cells": [
    {
      "cell_type": "markdown",
      "metadata": {
        "id": "Ialbg8qdLxS4"
      },
      "source": [
        "6.1 변수(Variable) 만들기"
      ]
    },
    {
      "cell_type": "markdown",
      "metadata": {
        "id": "5ukxMahqP05B"
      },
      "source": [
        "변수 이름 = 값\n",
        "변수가 생성되는 동시에 값이 할당(저장)됩니다.\n",
        "\n",
        "* 영문 문자와 숫자를 사용할 수 있습니다.\n",
        "* 대소문자를 구분합니다.\n",
        "* 문자부터 시작해야 하며 숫자부터 시작하면 안 됩니다.\n",
        "* _(밑줄 문자)로 시작할 수 있습니다.\n",
        "* 특수문자(+, -, *, /, $, @, &, % 등)는 사용할 수 없습니다.\n",
        "* 파이썬의 키워드(if, for, while, and, or 등)는 사용할 수 없습니다."
      ]
    },
    {
      "cell_type": "code",
      "metadata": {
        "colab": {
          "base_uri": "https://localhost:8080/"
        },
        "id": "3KA38YTTLqEA",
        "outputId": "201acaff-4046-490c-c98c-5aab25c69682"
      },
      "source": [
        "x  = 10\n",
        "x"
      ],
      "execution_count": 12,
      "outputs": [
        {
          "output_type": "execute_result",
          "data": {
            "text/plain": [
              "10"
            ]
          },
          "metadata": {
            "tags": []
          },
          "execution_count": 12
        }
      ]
    },
    {
      "cell_type": "code",
      "metadata": {
        "colab": {
          "base_uri": "https://localhost:8080/",
          "height": 35
        },
        "id": "vwUazK6lLto6",
        "outputId": "e9e1d892-c45f-4221-cb66-eab8d4c7b78e"
      },
      "source": [
        "s = 'Hello, world!'\n",
        "s"
      ],
      "execution_count": 13,
      "outputs": [
        {
          "output_type": "execute_result",
          "data": {
            "application/vnd.google.colaboratory.intrinsic+json": {
              "type": "string"
            },
            "text/plain": [
              "'Hello, world!'"
            ]
          },
          "metadata": {
            "tags": []
          },
          "execution_count": 13
        }
      ]
    },
    {
      "cell_type": "code",
      "metadata": {
        "colab": {
          "base_uri": "https://localhost:8080/"
        },
        "id": "Y_MdJUV9Nxtf",
        "outputId": "6040b7d4-7d2c-4d45-af4b-d13b4381caf7"
      },
      "source": [
        "type(x), type(s)"
      ],
      "execution_count": 14,
      "outputs": [
        {
          "output_type": "execute_result",
          "data": {
            "text/plain": [
              "(int, str)"
            ]
          },
          "metadata": {
            "tags": []
          },
          "execution_count": 14
        }
      ]
    },
    {
      "cell_type": "markdown",
      "metadata": {
        "id": "5jo-1RieOhJ-"
      },
      "source": [
        "6.2 변수로 계산"
      ]
    },
    {
      "cell_type": "code",
      "metadata": {
        "colab": {
          "base_uri": "https://localhost:8080/"
        },
        "id": "bU57x0ezN6p8",
        "outputId": "0ccef7b9-7eeb-4625-acf6-8d2f419094df"
      },
      "source": [
        "a = 10\n",
        "b = a+ + 10       # a = a + 10\n",
        "a"
      ],
      "execution_count": 8,
      "outputs": [
        {
          "output_type": "execute_result",
          "data": {
            "text/plain": [
              "10"
            ]
          },
          "metadata": {
            "tags": []
          },
          "execution_count": 8
        }
      ]
    },
    {
      "cell_type": "code",
      "metadata": {
        "colab": {
          "base_uri": "https://localhost:8080/",
          "height": 231
        },
        "id": "SRoTOsN-O9mZ",
        "outputId": "63bd269e-6bca-49f7-96df-bb1e51a44a0e"
      },
      "source": [
        "sum, prod = 0\n",
        "for i in range(1,11):\n",
        "    sum += 1\n",
        "    prod *= i\n",
        "sum, prod"
      ],
      "execution_count": 10,
      "outputs": [
        {
          "output_type": "error",
          "ename": "TypeError",
          "evalue": "ignored",
          "traceback": [
            "\u001b[0;31m---------------------------------------------------------------------------\u001b[0m",
            "\u001b[0;31mTypeError\u001b[0m                                 Traceback (most recent call last)",
            "\u001b[0;32m<ipython-input-10-8cd73eabc8a3>\u001b[0m in \u001b[0;36m<module>\u001b[0;34m()\u001b[0m\n\u001b[0;32m----> 1\u001b[0;31m \u001b[0msum\u001b[0m\u001b[0;34m,\u001b[0m \u001b[0mprod\u001b[0m \u001b[0;34m=\u001b[0m \u001b[0;36m0\u001b[0m\u001b[0;34m\u001b[0m\u001b[0;34m\u001b[0m\u001b[0m\n\u001b[0m\u001b[1;32m      2\u001b[0m \u001b[0;32mfor\u001b[0m \u001b[0mi\u001b[0m \u001b[0;32min\u001b[0m \u001b[0mrange\u001b[0m\u001b[0;34m(\u001b[0m\u001b[0;36m1\u001b[0m\u001b[0;34m,\u001b[0m\u001b[0;36m11\u001b[0m\u001b[0;34m)\u001b[0m\u001b[0;34m:\u001b[0m\u001b[0;34m\u001b[0m\u001b[0;34m\u001b[0m\u001b[0m\n\u001b[1;32m      3\u001b[0m     \u001b[0msum\u001b[0m \u001b[0;34m+=\u001b[0m \u001b[0;36m1\u001b[0m\u001b[0;34m\u001b[0m\u001b[0;34m\u001b[0m\u001b[0m\n\u001b[1;32m      4\u001b[0m     \u001b[0mprod\u001b[0m \u001b[0;34m*=\u001b[0m \u001b[0mi\u001b[0m\u001b[0;34m\u001b[0m\u001b[0;34m\u001b[0m\u001b[0m\n\u001b[1;32m      5\u001b[0m \u001b[0msum\u001b[0m\u001b[0;34m,\u001b[0m \u001b[0mprod\u001b[0m\u001b[0;34m\u001b[0m\u001b[0;34m\u001b[0m\u001b[0m\n",
            "\u001b[0;31mTypeError\u001b[0m: cannot unpack non-iterable int object"
          ]
        }
      ]
    },
    {
      "cell_type": "markdown",
      "metadata": {
        "id": "A8Lhoo86QwKZ"
      },
      "source": [
        "6.3 입력(input)"
      ]
    },
    {
      "cell_type": "code",
      "metadata": {
        "colab": {
          "base_uri": "https://localhost:8080/"
        },
        "id": "z5yKMcAKQva_",
        "outputId": "bdb5aaf6-39ad-4b3a-c156-4827ddd709c7"
      },
      "source": [
        "x = input()"
      ],
      "execution_count": 15,
      "outputs": [
        {
          "output_type": "stream",
          "text": [
            "x\n"
          ],
          "name": "stdout"
        }
      ]
    },
    {
      "cell_type": "code",
      "metadata": {
        "colab": {
          "base_uri": "https://localhost:8080/",
          "height": 35
        },
        "id": "LXukkafOQz6I",
        "outputId": "459520a6-6f29-4643-ed5a-a50565280267"
      },
      "source": [
        "x"
      ],
      "execution_count": 16,
      "outputs": [
        {
          "output_type": "execute_result",
          "data": {
            "application/vnd.google.colaboratory.intrinsic+json": {
              "type": "string"
            },
            "text/plain": [
              "'x'"
            ]
          },
          "metadata": {
            "tags": []
          },
          "execution_count": 16
        }
      ]
    },
    {
      "cell_type": "code",
      "metadata": {
        "id": "kGUVx412Q0pl"
      },
      "source": [
        "x = input ('1에서 10까지의 정수값')    #prompt"
      ],
      "execution_count": null,
      "outputs": []
    },
    {
      "cell_type": "code",
      "metadata": {
        "id": "sJx6BA-kQ3PA"
      },
      "source": [
        "# 입력한 두 정수의 합\n",
        "a = input('첫번쨰 정수> ')\n",
        "b = input('두번째 정수> ')\n",
        "a+b"
      ],
      "execution_count": null,
      "outputs": []
    },
    {
      "cell_type": "markdown",
      "metadata": {
        "id": "JI9X3uNBTO5y"
      },
      "source": [
        "6.4 입력값 두개"
      ]
    },
    {
      "cell_type": "code",
      "metadata": {
        "id": "B3Uzl0qBROis"
      },
      "source": [
        "s.split()"
      ],
      "execution_count": null,
      "outputs": []
    },
    {
      "cell_type": "code",
      "metadata": {
        "id": "xxmhGVgrTLAk"
      },
      "source": [
        "a, b = s.split()\n",
        "a, b"
      ],
      "execution_count": null,
      "outputs": []
    },
    {
      "cell_type": "code",
      "metadata": {
        "id": "7NtAZXu9XqRJ"
      },
      "source": [
        ""
      ],
      "execution_count": null,
      "outputs": []
    },
    {
      "cell_type": "markdown",
      "metadata": {
        "id": "uqjRVT9AV4Zs"
      },
      "source": [
        "map\n",
        "\n",
        "\n",
        "\n",
        "*   리스트 각 엘리먼트에 지정한 함수를 적용\n",
        "\n",
        "\n"
      ]
    },
    {
      "cell_type": "code",
      "metadata": {
        "id": "nLB-tmhUXu6D"
      },
      "source": [
        "a, b = map(int, [10.2, 11.4])\n",
        "a, b"
      ],
      "execution_count": null,
      "outputs": []
    },
    {
      "cell_type": "code",
      "metadata": {
        "id": "ShMj9QXpTXPn"
      },
      "source": [
        "a, b = map(int, input('정수의'))"
      ],
      "execution_count": null,
      "outputs": []
    }
  ]
}