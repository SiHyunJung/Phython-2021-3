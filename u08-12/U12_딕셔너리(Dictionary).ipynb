{
  "nbformat": 4,
  "nbformat_minor": 0,
  "metadata": {
    "colab": {
      "name": "U12_딕셔너리(Dictionary).ipynb",
      "provenance": [],
      "collapsed_sections": []
    },
    "kernelspec": {
      "name": "python3",
      "display_name": "Python 3"
    },
    "language_info": {
      "name": "python"
    }
  },
  "cells": [
    {
      "cell_type": "markdown",
      "metadata": {
        "id": "z-9RGUCxSQrW"
      },
      "source": [
        "Unit12. 딕셔너리(Dictionary)"
      ]
    },
    {
      "cell_type": "code",
      "metadata": {
        "colab": {
          "base_uri": "https://localhost:8080/"
        },
        "id": "b9Qe-cSURz2j",
        "outputId": "417be495-fe7b-40c3-e95f-5a0f442ea8d6"
      },
      "source": [
        "lux = [490, 334, 550, 19, 72]\n",
        "lux"
      ],
      "execution_count": 1,
      "outputs": [
        {
          "output_type": "execute_result",
          "data": {
            "text/plain": [
              "[490, 334, 550, 19, 72]"
            ]
          },
          "metadata": {
            "tags": []
          },
          "execution_count": 1
        }
      ]
    },
    {
      "cell_type": "code",
      "metadata": {
        "colab": {
          "base_uri": "https://localhost:8080/"
        },
        "id": "Ux7z9T0VSbTB",
        "outputId": "db54aad7-20c1-4ed8-9cc5-5efe41de7995"
      },
      "source": [
        "lux = {\n",
        "    'health' : 490,       # 체력 \n",
        "    'mana' : 334,         # 마력\n",
        "    'melee' : 550,        # 사거리\n",
        "    'armor' : 18.72       # 방어력\n",
        "}\n",
        "\n",
        "lux"
      ],
      "execution_count": 6,
      "outputs": [
        {
          "output_type": "execute_result",
          "data": {
            "text/plain": [
              "{'armor': 18.72, 'health': 490, 'mana': 334, 'melee': 550}"
            ]
          },
          "metadata": {
            "tags": []
          },
          "execution_count": 6
        }
      ]
    },
    {
      "cell_type": "markdown",
      "metadata": {
        "id": "d6t4ITE5TcpB"
      },
      "source": [
        "12.1  딕셔너리 생성"
      ]
    },
    {
      "cell_type": "code",
      "metadata": {
        "id": "zGsvaVGeS2Qt"
      },
      "source": [
        "lux = {'health': 490, 'mana': 334, 'melee': 550, 'armor': 18.72}"
      ],
      "execution_count": 7,
      "outputs": []
    },
    {
      "cell_type": "code",
      "metadata": {
        "colab": {
          "base_uri": "https://localhost:8080/"
        },
        "id": "cFlTCMp7T9cW",
        "outputId": "cb146c1e-6ecc-49ad-c1d8-265f9205fc6b"
      },
      "source": [
        "# 빈 딕셔너리 생성 후\n",
        "# sum = 0  sum = sum + i : 반복하는 값을 더하고\n",
        "# Prod = 1 prod = prod * i  \n",
        "# el = []  el.append(i)\n",
        "# d['key'] = val\n",
        "\n",
        "a = {}\n",
        "b = dict()\n",
        "a,b"
      ],
      "execution_count": 9,
      "outputs": [
        {
          "output_type": "execute_result",
          "data": {
            "text/plain": [
              "({}, {})"
            ]
          },
          "metadata": {
            "tags": []
          },
          "execution_count": 9
        }
      ]
    },
    {
      "cell_type": "code",
      "metadata": {
        "colab": {
          "base_uri": "https://localhost:8080/"
        },
        "id": "DYXejy6SU5ra",
        "outputId": "27772208-b86e-48f4-d5d8-e1110de58c13"
      },
      "source": [
        "a = set((1, 2, 3))\n",
        "a"
      ],
      "execution_count": 10,
      "outputs": [
        {
          "output_type": "execute_result",
          "data": {
            "text/plain": [
              "{1, 2, 3}"
            ]
          },
          "metadata": {
            "tags": []
          },
          "execution_count": 10
        }
      ]
    },
    {
      "cell_type": "code",
      "metadata": {
        "colab": {
          "base_uri": "https://localhost:8080/"
        },
        "id": "kNYU7l8mVE4C",
        "outputId": "4f995642-0caf-46dc-cf69-595e83423d5d"
      },
      "source": [
        "a = ['a', 'b', 'c', 'd']\n",
        "b = [1,2,3,4]\n",
        "dict(zip(a,b))"
      ],
      "execution_count": 12,
      "outputs": [
        {
          "output_type": "execute_result",
          "data": {
            "text/plain": [
              "{'a': 1, 'b': 2, 'c': 3, 'd': 4}"
            ]
          },
          "metadata": {
            "tags": []
          },
          "execution_count": 12
        }
      ]
    },
    {
      "cell_type": "markdown",
      "metadata": {
        "id": "R0I66TuHVz2O"
      },
      "source": [
        "12.2 딕셔너리 키에 접근하고 값 할당하기"
      ]
    },
    {
      "cell_type": "code",
      "metadata": {
        "colab": {
          "base_uri": "https://localhost:8080/"
        },
        "id": "aNKu-L3oVh6Y",
        "outputId": "f679009a-f5ef-4ed4-f6d5-e4b2f7a8c6f3"
      },
      "source": [
        "lux"
      ],
      "execution_count": 13,
      "outputs": [
        {
          "output_type": "execute_result",
          "data": {
            "text/plain": [
              "{'armor': 18.72, 'health': 490, 'mana': 334, 'melee': 550}"
            ]
          },
          "metadata": {
            "tags": []
          },
          "execution_count": 13
        }
      ]
    },
    {
      "cell_type": "code",
      "metadata": {
        "colab": {
          "base_uri": "https://localhost:8080/"
        },
        "id": "QlUDwndCWeIR",
        "outputId": "51a70132-ebb3-4701-983d-fd8bf88f0ae1"
      },
      "source": [
        "lux['mana'], lux['armor']"
      ],
      "execution_count": 14,
      "outputs": [
        {
          "output_type": "execute_result",
          "data": {
            "text/plain": [
              "(334, 18.72)"
            ]
          },
          "metadata": {
            "tags": []
          },
          "execution_count": 14
        }
      ]
    },
    {
      "cell_type": "code",
      "metadata": {
        "colab": {
          "base_uri": "https://localhost:8080/"
        },
        "id": "WiklS1IRWifZ",
        "outputId": "65aa5cac-35ae-4af9-d714-dc52f2646ca7"
      },
      "source": [
        "# 키값이 기존 딕셔너리에 없으면 새롭게 추가\n",
        "lux['new'] = 10\n",
        "lux"
      ],
      "execution_count": 17,
      "outputs": [
        {
          "output_type": "execute_result",
          "data": {
            "text/plain": [
              "{'armor': 18.72, 'health': 490, 'mana': 334, 'melee': 550, 'new': 10}"
            ]
          },
          "metadata": {
            "tags": []
          },
          "execution_count": 17
        }
      ]
    },
    {
      "cell_type": "code",
      "metadata": {
        "colab": {
          "base_uri": "https://localhost:8080/"
        },
        "id": "Tzw3KdIoWmGi",
        "outputId": "20e1d85b-4788-4527-a010-9afc1e2ba2a2"
      },
      "source": [
        "# 키 값이 딕셔너리에 있으면 값이 변경\n",
        "lux['mama'] = 1000\n",
        "lux"
      ],
      "execution_count": 19,
      "outputs": [
        {
          "output_type": "execute_result",
          "data": {
            "text/plain": [
              "{'armor': 18.72,\n",
              " 'health': 490,\n",
              " 'mama': 1000,\n",
              " 'mana': 334,\n",
              " 'melee': 550,\n",
              " 'new': 10}"
            ]
          },
          "metadata": {
            "tags": []
          },
          "execution_count": 19
        }
      ]
    },
    {
      "cell_type": "code",
      "metadata": {
        "colab": {
          "base_uri": "https://localhost:8080/"
        },
        "id": "EEUbb8EhXxDm",
        "outputId": "a35f32e8-a995-44d5-ccaa-0a58d1dc90b0"
      },
      "source": [
        "# 키 in 딕셔너리  :  딕셔너리의 키를 확인하려면 in 연산자 사용\n",
        "\n",
        "'mana' in lux"
      ],
      "execution_count": 20,
      "outputs": [
        {
          "output_type": "execute_result",
          "data": {
            "text/plain": [
              "True"
            ]
          },
          "metadata": {
            "tags": []
          },
          "execution_count": 20
        }
      ]
    },
    {
      "cell_type": "code",
      "metadata": {
        "colab": {
          "base_uri": "https://localhost:8080/"
        },
        "id": "hpc5Qg9PYBLU",
        "outputId": "8b7cfb4c-2112-4cfa-eec8-bb0edd34797d"
      },
      "source": [
        "# 'mana' 항목이 존재하면 기존 값 + 100, 없으면 50이 되게 만드시오\n",
        "e = {}\n",
        "\n",
        "if 'mana' in e:\n",
        "    d['mana'] = e['mana'] + 100\n",
        "else:\n",
        "    e['mana'] = 50\n",
        "\n",
        "e"
      ],
      "execution_count": 23,
      "outputs": [
        {
          "output_type": "execute_result",
          "data": {
            "text/plain": [
              "{'mana': 50}"
            ]
          },
          "metadata": {
            "tags": []
          },
          "execution_count": 23
        }
      ]
    },
    {
      "cell_type": "markdown",
      "metadata": {
        "id": "h4yprKh3ZHI8"
      },
      "source": [
        "### 딕셔너리 키의 갯수"
      ]
    },
    {
      "cell_type": "code",
      "metadata": {
        "colab": {
          "base_uri": "https://localhost:8080/"
        },
        "id": "qN2fjoJ5Yom6",
        "outputId": "586e5fa6-2293-495f-ed4f-2dee0d2c335e"
      },
      "source": [
        "lux"
      ],
      "execution_count": 24,
      "outputs": [
        {
          "output_type": "execute_result",
          "data": {
            "text/plain": [
              "{'armor': 18.72,\n",
              " 'health': 490,\n",
              " 'mama': 1000,\n",
              " 'mana': 334,\n",
              " 'melee': 550,\n",
              " 'new': 10}"
            ]
          },
          "metadata": {
            "tags": []
          },
          "execution_count": 24
        }
      ]
    },
    {
      "cell_type": "code",
      "metadata": {
        "colab": {
          "base_uri": "https://localhost:8080/"
        },
        "id": "QvQZ70ZXZL5U",
        "outputId": "ec9ca717-b62b-455b-eefd-8d7f99ff8359"
      },
      "source": [
        "len(lux)"
      ],
      "execution_count": 25,
      "outputs": [
        {
          "output_type": "execute_result",
          "data": {
            "text/plain": [
              "6"
            ]
          },
          "metadata": {
            "tags": []
          },
          "execution_count": 25
        }
      ]
    },
    {
      "cell_type": "code",
      "metadata": {
        "colab": {
          "base_uri": "https://localhost:8080/"
        },
        "id": "091GOwH1ZNu5",
        "outputId": "fad89d51-a683-4da4-d117-7ee6a610322f"
      },
      "source": [
        "#자료형\n",
        "type(lux)\n",
        "type(lux['armor'])\n",
        "\n"
      ],
      "execution_count": 30,
      "outputs": [
        {
          "output_type": "execute_result",
          "data": {
            "text/plain": [
              "float"
            ]
          },
          "metadata": {
            "tags": []
          },
          "execution_count": 30
        }
      ]
    },
    {
      "cell_type": "code",
      "metadata": {
        "colab": {
          "base_uri": "https://localhost:8080/"
        },
        "id": "XsiEWvwIZ_T_",
        "outputId": "69c2d3f1-dc44-4ebb-d6bd-78e82d43a433"
      },
      "source": [
        "lux['mana'], lux['armor']"
      ],
      "execution_count": 32,
      "outputs": [
        {
          "output_type": "execute_result",
          "data": {
            "text/plain": [
              "(334, 18.72)"
            ]
          },
          "metadata": {
            "tags": []
          },
          "execution_count": 32
        }
      ]
    },
    {
      "cell_type": "code",
      "metadata": {
        "colab": {
          "base_uri": "https://localhost:8080/"
        },
        "id": "qd58XpsPaOm3",
        "outputId": "f9a5b58e-dc26-4a9b-e33f-d29ae744444d"
      },
      "source": [
        "lux.keys()"
      ],
      "execution_count": 34,
      "outputs": [
        {
          "output_type": "execute_result",
          "data": {
            "text/plain": [
              "dict_keys(['health', 'mana', 'melee', 'armor', 'new', 'mama'])"
            ]
          },
          "metadata": {
            "tags": []
          },
          "execution_count": 34
        }
      ]
    },
    {
      "cell_type": "code",
      "metadata": {
        "colab": {
          "base_uri": "https://localhost:8080/"
        },
        "id": "cCTnLmama9MO",
        "outputId": "0ff4aad6-0f5c-4c82-b0a5-49c64924a1c2"
      },
      "source": [
        "for key in lux.keys():\n",
        "    print(f'{key}: {lux[key]}')"
      ],
      "execution_count": 35,
      "outputs": [
        {
          "output_type": "stream",
          "text": [
            "health: 490\n",
            "mana: 334\n",
            "melee: 550\n",
            "armor: 18.72\n",
            "new: 10\n",
            "mama: 1000\n"
          ],
          "name": "stdout"
        }
      ]
    },
    {
      "cell_type": "code",
      "metadata": {
        "colab": {
          "base_uri": "https://localhost:8080/",
          "height": 130
        },
        "id": "TWF912dgbGNh",
        "outputId": "72110add-51b0-426f-aea7-9b4ef715324c"
      },
      "source": [
        "# 22.23Unit 리스트와 튜플 응용하기\n",
        "for key, value in lux.items()\n",
        "    print(f'{key}: {value}')"
      ],
      "execution_count": 36,
      "outputs": [
        {
          "output_type": "error",
          "ename": "SyntaxError",
          "evalue": "ignored",
          "traceback": [
            "\u001b[0;36m  File \u001b[0;32m\"<ipython-input-36-af2e83a08791>\"\u001b[0;36m, line \u001b[0;32m1\u001b[0m\n\u001b[0;31m    for key, value in lux.items()\u001b[0m\n\u001b[0m                                 ^\u001b[0m\n\u001b[0;31mSyntaxError\u001b[0m\u001b[0;31m:\u001b[0m invalid syntax\n"
          ]
        }
      ]
    },
    {
      "cell_type": "code",
      "metadata": {
        "id": "LZuLd6fUbRf0"
      },
      "source": [
        ""
      ],
      "execution_count": null,
      "outputs": []
    }
  ]
}