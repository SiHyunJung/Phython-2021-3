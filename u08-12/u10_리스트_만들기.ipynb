{
  "nbformat": 4,
  "nbformat_minor": 0,
  "metadata": {
    "colab": {
      "name": "u10_리스트 만들기.ipynb",
      "provenance": [],
      "collapsed_sections": []
    },
    "kernelspec": {
      "name": "python3",
      "display_name": "Python 3"
    },
    "language_info": {
      "name": "python"
    }
  },
  "cells": [
    {
      "cell_type": "markdown",
      "metadata": {
        "id": "CR2dfWRHXdgq"
      },
      "source": [
        "Unit 10. **리스트**[]와 튜플() 사용하기\n",
        "\n",
        "{} 딕셔너리, 세트\n",
        "np(numpy) 에서는 []를 array\n",
        " pd\n"
      ]
    },
    {
      "cell_type": "markdown",
      "metadata": {
        "id": "5OSHd65LXsUL"
      },
      "source": [
        "# 10.1 리스트 (list)\n",
        "*   리스트 = [element, element, element]  리스트에 저장된 각 값 요소(element)\n",
        "\n",
        "10.1.1 리스트에 여러 가지 자료형 저장하기\n",
        "*   문자열, 정수, 실수, 불 등 모든 자료형 저장 가능"
      ]
    },
    {
      "cell_type": "code",
      "metadata": {
        "colab": {
          "base_uri": "https://localhost:8080/"
        },
        "id": "tkqxAN4wXYsp",
        "outputId": "507ba014-9fa9-4a91-cfba-7cfc1ca788e2"
      },
      "source": [
        "# 파이썬에서는 리스트 엘리먼트가 다른 자료형도 가능\n",
        "\n",
        "person = ['james', 28, 167, True, [123, 45]]   # [] 안에 [] 사용 가능 but 반복문 X\n",
        "person"
      ],
      "execution_count": 3,
      "outputs": [
        {
          "output_type": "execute_result",
          "data": {
            "text/plain": [
              "['james', 28, 167, True, [123, 45]]"
            ]
          },
          "metadata": {
            "tags": []
          },
          "execution_count": 3
        }
      ]
    },
    {
      "cell_type": "code",
      "metadata": {
        "colab": {
          "base_uri": "https://localhost:8080/"
        },
        "id": "_GKJLpZdi7zP",
        "outputId": "badf9667-017d-4184-ff66-5903bc96937d"
      },
      "source": [
        "# 위의 person은 다음과 같은 딕셔너리로 변경하는 것을 권장함\n",
        "\n",
        "person_dict = {'name' : 'James', 'age' : 28, 'height' : 167,\n",
        "              'is female' : True, 'bp' : [120, 80] } \n",
        "person_dict\n",
        "        "
      ],
      "execution_count": 23,
      "outputs": [
        {
          "output_type": "execute_result",
          "data": {
            "text/plain": [
              "{'age': 28, 'bp': [120, 80], 'height': 167, 'is female': True, 'name': 'James'}"
            ]
          },
          "metadata": {
            "tags": []
          },
          "execution_count": 23
        }
      ]
    },
    {
      "cell_type": "markdown",
      "metadata": {
        "id": "UWKuPrxDYuDf"
      },
      "source": [
        "10.1.2 빈 리스트 만들기\n",
        "빈 리스트 [] 만 지정하거나 list 사용하기\n",
        "\n",
        "보통 빈 리스트를 만들어 놓은 뒤 새 값을 추가하는 방식으로 사용하며 리스트에 값을 추가하는 방법은 Unit22 리스트와 튜플 응용하기\n",
        "*   리스트 = []\n",
        "*   리스트 = list()\n",
        "\n"
      ]
    },
    {
      "cell_type": "code",
      "metadata": {
        "id": "BgmPJsqqpBEh"
      },
      "source": [
        ""
      ],
      "execution_count": null,
      "outputs": []
    },
    {
      "cell_type": "markdown",
      "metadata": {
        "id": "yG9R6Pqmk5X3"
      },
      "source": [
        "range\n",
        "\n",
        "\n",
        "*   **range([시작숫자,] 끝나는 숫자+1 [,증가분])**\n"
      ]
    },
    {
      "cell_type": "code",
      "metadata": {
        "id": "sGU6bDByYheR",
        "colab": {
          "base_uri": "https://localhost:8080/"
        },
        "outputId": "55f698df-9fe6-4fce-f90b-09c6f8edac5c"
      },
      "source": [
        "a = range(10)\n",
        "a"
      ],
      "execution_count": 14,
      "outputs": [
        {
          "output_type": "execute_result",
          "data": {
            "text/plain": [
              "range(0, 10)"
            ]
          },
          "metadata": {
            "tags": []
          },
          "execution_count": 14
        }
      ]
    },
    {
      "cell_type": "code",
      "metadata": {
        "colab": {
          "base_uri": "https://localhost:8080/"
        },
        "id": "kdiMBKnZlFUe",
        "outputId": "95dc9d7a-99ad-4265-e80a-bfbff1949002"
      },
      "source": [
        "list(a)"
      ],
      "execution_count": 15,
      "outputs": [
        {
          "output_type": "execute_result",
          "data": {
            "text/plain": [
              "[0, 1, 2, 3, 4, 5, 6, 7, 8, 9]"
            ]
          },
          "metadata": {
            "tags": []
          },
          "execution_count": 15
        }
      ]
    },
    {
      "cell_type": "code",
      "metadata": {
        "colab": {
          "base_uri": "https://localhost:8080/"
        },
        "id": "7o-2A26KlKqq",
        "outputId": "35cf8adc-1302-468e-c929-6d9eddc139fe"
      },
      "source": [
        "list(range(1,11))"
      ],
      "execution_count": 16,
      "outputs": [
        {
          "output_type": "execute_result",
          "data": {
            "text/plain": [
              "[1, 2, 3, 4, 5, 6, 7, 8, 9, 10]"
            ]
          },
          "metadata": {
            "tags": []
          },
          "execution_count": 16
        }
      ]
    },
    {
      "cell_type": "code",
      "metadata": {
        "colab": {
          "base_uri": "https://localhost:8080/"
        },
        "id": "FLPYs0UrlPXt",
        "outputId": "3fece540-f26a-4aa1-a379-a1c3812c3a15"
      },
      "source": [
        "list(range(1,10,2))"
      ],
      "execution_count": 17,
      "outputs": [
        {
          "output_type": "execute_result",
          "data": {
            "text/plain": [
              "[1, 3, 5, 7, 9]"
            ]
          },
          "metadata": {
            "tags": []
          },
          "execution_count": 17
        }
      ]
    },
    {
      "cell_type": "code",
      "metadata": {
        "colab": {
          "base_uri": "https://localhost:8080/"
        },
        "id": "HYdZnG8-loQ8",
        "outputId": "b2aca027-657a-40ff-af8d-3dec01a0d19b"
      },
      "source": [
        "list(range(2,11,2))"
      ],
      "execution_count": 18,
      "outputs": [
        {
          "output_type": "execute_result",
          "data": {
            "text/plain": [
              "[2, 4, 6, 8, 10]"
            ]
          },
          "metadata": {
            "tags": []
          },
          "execution_count": 18
        }
      ]
    },
    {
      "cell_type": "code",
      "metadata": {
        "colab": {
          "base_uri": "https://localhost:8080/"
        },
        "id": "-PEYR6J4ltqC",
        "outputId": "58ed8aac-70a4-4a69-98ee-1835efd42389"
      },
      "source": [
        "# 10 에서부터 거꾸로 숫자를 입력할 때 , 증가분이 아닌 마이너스로 입력 , -1\n",
        "\n",
        "list(range(10,0,-1))"
      ],
      "execution_count": 25,
      "outputs": [
        {
          "output_type": "execute_result",
          "data": {
            "text/plain": [
              "[10, 9, 8, 7, 6, 5, 4, 3, 2, 1]"
            ]
          },
          "metadata": {
            "tags": []
          },
          "execution_count": 25
        }
      ]
    },
    {
      "cell_type": "markdown",
      "metadata": {
        "id": "FNoL2kqxozXx"
      },
      "source": [
        "10.2 튜플(Tuple)\n"
      ]
    },
    {
      "cell_type": "code",
      "metadata": {
        "colab": {
          "base_uri": "https://localhost:8080/"
        },
        "id": "d0NFD9GRoi-W",
        "outputId": "221593b4-1d97-4a70-e6da-6d6888290f91"
      },
      "source": [
        "a = (38, 21, 27)\n",
        "a"
      ],
      "execution_count": 26,
      "outputs": [
        {
          "output_type": "execute_result",
          "data": {
            "text/plain": [
              "(38, 21, 27)"
            ]
          },
          "metadata": {
            "tags": []
          },
          "execution_count": 26
        }
      ]
    },
    {
      "cell_type": "code",
      "metadata": {
        "colab": {
          "base_uri": "https://localhost:8080/"
        },
        "id": "WsUQSSHnoXdL",
        "outputId": "87f3a8ad-cd05-424f-cc96-d3d6fec72122"
      },
      "source": [
        "a = 38, 21, 47\n",
        "a"
      ],
      "execution_count": 27,
      "outputs": [
        {
          "output_type": "execute_result",
          "data": {
            "text/plain": [
              "(38, 21, 47)"
            ]
          },
          "metadata": {
            "tags": []
          },
          "execution_count": 27
        }
      ]
    },
    {
      "cell_type": "code",
      "metadata": {
        "colab": {
          "base_uri": "https://localhost:8080/"
        },
        "id": "a9pHPJ7xpMH1",
        "outputId": "b225a244-938a-4ac8-bf7c-8fcef36047ae"
      },
      "source": [
        "person = ('James', 19, 167, True, [120, 80])\n",
        "person"
      ],
      "execution_count": 29,
      "outputs": [
        {
          "output_type": "execute_result",
          "data": {
            "text/plain": [
              "('James', 19, 167, True, [120, 80])"
            ]
          },
          "metadata": {
            "tags": []
          },
          "execution_count": 29
        }
      ]
    },
    {
      "cell_type": "code",
      "metadata": {
        "id": "iZ2YYEChpmLD"
      },
      "source": [
        "a = tuple()    # 튜플은 변화를 줄 수 없기 때문에 빈튜플 사용이 안됨\n",
        "a"
      ],
      "execution_count": null,
      "outputs": []
    },
    {
      "cell_type": "code",
      "metadata": {
        "colab": {
          "base_uri": "https://localhost:8080/"
        },
        "id": "WyDG8fahqPP9",
        "outputId": "9536c533-67e0-4cc0-9f3d-dee79dcd2fe0"
      },
      "source": [
        "# a는 정수\n",
        "a = (38)\n",
        "a\n"
      ],
      "execution_count": 31,
      "outputs": [
        {
          "output_type": "execute_result",
          "data": {
            "text/plain": [
              "(0, 1, 2, 3, 4)"
            ]
          },
          "metadata": {
            "tags": []
          },
          "execution_count": 31
        }
      ]
    },
    {
      "cell_type": "code",
      "metadata": {
        "id": "R0b3-xB-qJBY"
      },
      "source": [
        "# a는 튜플\n",
        "a = (38,)\n",
        "a"
      ],
      "execution_count": null,
      "outputs": []
    },
    {
      "cell_type": "markdown",
      "metadata": {
        "id": "RBA-pVlfq3JY"
      },
      "source": [
        "데이터 베이스에 값을 줄 때, 데이터 베이스 프로그램에서 튜플을 기대하는 항목이 있습니다. \n",
        "데이터 하나를 입력하고 싶을 때, (38,) 입력해주시면 오류 안남\n",
        "딥러닝시, 2차원 3차원 사용시 튜플을 반드시 사용해야 되는 경우가 생김.\n",
        "한 개의 ele에 ,를 붙여야 튜플이 된다."
      ]
    },
    {
      "cell_type": "code",
      "metadata": {
        "colab": {
          "base_uri": "https://localhost:8080/"
        },
        "id": "rKuOABpAq22n",
        "outputId": "61e1dc70-5e36-4de4-b138-b5e45ffa50a2"
      },
      "source": [
        "tuple(range(5))"
      ],
      "execution_count": 32,
      "outputs": [
        {
          "output_type": "execute_result",
          "data": {
            "text/plain": [
              "(0, 1, 2, 3, 4)"
            ]
          },
          "metadata": {
            "tags": []
          },
          "execution_count": 32
        }
      ]
    },
    {
      "cell_type": "markdown",
      "metadata": {
        "id": "rY2g9b1ZrDv-"
      },
      "source": [
        "리스트 < - > 튜플"
      ]
    },
    {
      "cell_type": "code",
      "metadata": {
        "colab": {
          "base_uri": "https://localhost:8080/"
        },
        "id": "4_5nsudHrBCp",
        "outputId": "3cbf7cf4-c9b2-4f81-96f2-54080455e0d6"
      },
      "source": [
        "a = [1, 3, 4]       # ele가 아닌 변수여서 가능하다\n",
        "b = tuple(a)\n",
        "b"
      ],
      "execution_count": 33,
      "outputs": [
        {
          "output_type": "execute_result",
          "data": {
            "text/plain": [
              "(1, 3, 4)"
            ]
          },
          "metadata": {
            "tags": []
          },
          "execution_count": 33
        }
      ]
    },
    {
      "cell_type": "code",
      "metadata": {
        "colab": {
          "base_uri": "https://localhost:8080/"
        },
        "id": "y7aS_G-hrJwO",
        "outputId": "e9589c02-29d7-4e6a-d1d0-22b966cd1722"
      },
      "source": [
        "c = list(b)\n",
        "c"
      ],
      "execution_count": 34,
      "outputs": [
        {
          "output_type": "execute_result",
          "data": {
            "text/plain": [
              "[1, 3, 4]"
            ]
          },
          "metadata": {
            "tags": []
          },
          "execution_count": 34
        }
      ]
    },
    {
      "cell_type": "code",
      "metadata": {
        "colab": {
          "base_uri": "https://localhost:8080/",
          "height": 181
        },
        "id": "7tMZJvmTrLz3",
        "outputId": "b86c344a-2114-492d-a87e-9886cf90ab9e"
      },
      "source": [
        "x = 10\n",
        "tuple(10,)"
      ],
      "execution_count": 36,
      "outputs": [
        {
          "output_type": "error",
          "ename": "TypeError",
          "evalue": "ignored",
          "traceback": [
            "\u001b[0;31m---------------------------------------------------------------------------\u001b[0m",
            "\u001b[0;31mTypeError\u001b[0m                                 Traceback (most recent call last)",
            "\u001b[0;32m<ipython-input-36-b8db3c09f65f>\u001b[0m in \u001b[0;36m<module>\u001b[0;34m()\u001b[0m\n\u001b[1;32m      1\u001b[0m \u001b[0mx\u001b[0m \u001b[0;34m=\u001b[0m \u001b[0;36m10\u001b[0m\u001b[0;34m\u001b[0m\u001b[0;34m\u001b[0m\u001b[0m\n\u001b[0;32m----> 2\u001b[0;31m \u001b[0mtuple\u001b[0m\u001b[0;34m(\u001b[0m\u001b[0;36m10\u001b[0m\u001b[0;34m,\u001b[0m\u001b[0;34m)\u001b[0m\u001b[0;34m\u001b[0m\u001b[0;34m\u001b[0m\u001b[0m\n\u001b[0m",
            "\u001b[0;31mTypeError\u001b[0m: 'int' object is not iterable"
          ]
        }
      ]
    },
    {
      "cell_type": "markdown",
      "metadata": {
        "id": "a3lUlYQRrYsP"
      },
      "source": [
        "### **문자열** tuple"
      ]
    },
    {
      "cell_type": "code",
      "metadata": {
        "colab": {
          "base_uri": "https://localhost:8080/"
        },
        "id": "paHGhnNMrV4T",
        "outputId": "764cf57b-b531-42f1-bd9a-1632c8f019cb"
      },
      "source": [
        "# 문자열은 개별 코드 단위로 분해해서 사용가능\n",
        "tuple('Hello')"
      ],
      "execution_count": 37,
      "outputs": [
        {
          "output_type": "execute_result",
          "data": {
            "text/plain": [
              "('H', 'e', 'l', 'l', 'o')"
            ]
          },
          "metadata": {
            "tags": []
          },
          "execution_count": 37
        }
      ]
    },
    {
      "cell_type": "code",
      "metadata": {
        "colab": {
          "base_uri": "https://localhost:8080/"
        },
        "id": "1EXYScF_reWf",
        "outputId": "10792bc3-c945-4335-ad0a-3e269d82b93b"
      },
      "source": [
        "list('안녕하세요')"
      ],
      "execution_count": 38,
      "outputs": [
        {
          "output_type": "execute_result",
          "data": {
            "text/plain": [
              "['안', '녕', '하', '세', '요']"
            ]
          },
          "metadata": {
            "tags": []
          },
          "execution_count": 38
        }
      ]
    },
    {
      "cell_type": "markdown",
      "metadata": {
        "id": "Ats5Sb-6r8F9"
      },
      "source": [
        "# 언팩킹(Unpacking)"
      ]
    },
    {
      "cell_type": "code",
      "metadata": {
        "colab": {
          "base_uri": "https://localhost:8080/"
        },
        "id": "I4Q6SSfSrnL7",
        "outputId": "caaf059a-7ce8-4f28-de3b-3719dfb63258"
      },
      "source": [
        "# tuple unpacking\n",
        "a = (1, 3, 4)\n",
        "x, y, z = a\n",
        "x, y, z"
      ],
      "execution_count": 40,
      "outputs": [
        {
          "output_type": "execute_result",
          "data": {
            "text/plain": [
              "(1, 3, 4)"
            ]
          },
          "metadata": {
            "tags": []
          },
          "execution_count": 40
        }
      ]
    },
    {
      "cell_type": "code",
      "metadata": {
        "id": "v3W-4e8ZsDI8"
      },
      "source": [
        "# list unpacking\n",
        "\n",
        "x, y, z = [1, 3, 5]\n",
        "x, y, z"
      ],
      "execution_count": null,
      "outputs": []
    }
  ]
}