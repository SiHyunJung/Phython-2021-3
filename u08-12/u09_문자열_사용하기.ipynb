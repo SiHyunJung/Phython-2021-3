{
  "nbformat": 4,
  "nbformat_minor": 0,
  "metadata": {
    "colab": {
      "name": "u09_문자열 사용하기.ipynb",
      "provenance": [],
      "collapsed_sections": []
    },
    "kernelspec": {
      "name": "python3",
      "display_name": "Python 3"
    },
    "language_info": {
      "name": "python"
    }
  },
  "cells": [
    {
      "cell_type": "markdown",
      "metadata": {
        "id": "RGr5kGudWohR"
      },
      "source": [
        "unit. 09 문자열 사용하기\n"
      ]
    },
    {
      "cell_type": "code",
      "metadata": {
        "id": "mrto3oPKWkHG",
        "colab": {
          "base_uri": "https://localhost:8080/"
        },
        "outputId": "56047f7e-2348-41f0-f46c-9aa280b7e7d8"
      },
      "source": [
        "hello = 'Hello, World!'\n",
        "hello2 = 'Hello, world!'\n",
        "hello, hello2"
      ],
      "execution_count": 1,
      "outputs": [
        {
          "output_type": "execute_result",
          "data": {
            "text/plain": [
              "('Hello, World!', 'Hello, world!')"
            ]
          },
          "metadata": {
            "tags": []
          },
          "execution_count": 1
        }
      ]
    },
    {
      "cell_type": "code",
      "metadata": {
        "colab": {
          "base_uri": "https://localhost:8080/",
          "height": 35
        },
        "id": "hggxKDAodQQQ",
        "outputId": "a117ca0b-0031-4fef-c76e-a0e650b771bd"
      },
      "source": [
        "multiline = '''Hello!\n",
        "World!'''\n",
        "multiline"
      ],
      "execution_count": 3,
      "outputs": [
        {
          "output_type": "execute_result",
          "data": {
            "application/vnd.google.colaboratory.intrinsic+json": {
              "type": "string"
            },
            "text/plain": [
              "'Hello!\\nWorld!'"
            ]
          },
          "metadata": {
            "tags": []
          },
          "execution_count": 3
        }
      ]
    },
    {
      "cell_type": "markdown",
      "metadata": {
        "id": "ttS9rYjQdeT4"
      },
      "source": [
        "*파이썬에서는 변수에 값을 입력해 주지 않으면 값을 string으로 인정"
      ]
    },
    {
      "cell_type": "code",
      "metadata": {
        "id": "grcNfSYXdWV7"
      },
      "source": [
        "multi = 'Hello1 \\nWorld!'       #  백슬래시 입력이 되지 않아 \\ 사용"
      ],
      "execution_count": 4,
      "outputs": []
    },
    {
      "cell_type": "code",
      "metadata": {
        "colab": {
          "base_uri": "https://localhost:8080/"
        },
        "id": "Be_iDwH2duhg",
        "outputId": "96d67c95-ae8a-40c8-e09e-2cbae76d8838"
      },
      "source": [
        "print(multi)"
      ],
      "execution_count": 5,
      "outputs": [
        {
          "output_type": "stream",
          "text": [
            "Hello1 \n",
            "World!\n"
          ],
          "name": "stdout"
        }
      ]
    },
    {
      "cell_type": "code",
      "metadata": {
        "colab": {
          "base_uri": "https://localhost:8080/",
          "height": 35
        },
        "id": "-5W7Dn6qdxiH",
        "outputId": "703ef479-f61f-486c-cd45-09b2f63c2714"
      },
      "source": [
        "s = \"Python isn't difficult.\"     #  ' ->  \"\"\n",
        "s "
      ],
      "execution_count": 8,
      "outputs": [
        {
          "output_type": "execute_result",
          "data": {
            "application/vnd.google.colaboratory.intrinsic+json": {
              "type": "string"
            },
            "text/plain": [
              "\"Python isn't difficult.\""
            ]
          },
          "metadata": {
            "tags": []
          },
          "execution_count": 8
        }
      ]
    },
    {
      "cell_type": "code",
      "metadata": {
        "id": "4jmvfanFeNkD"
      },
      "source": [
        "s = 'Alice said \"lost key.\"'"
      ],
      "execution_count": 9,
      "outputs": []
    },
    {
      "cell_type": "code",
      "metadata": {
        "id": "WIqHaeUTemTZ"
      },
      "source": [
        ""
      ],
      "execution_count": null,
      "outputs": []
    }
  ]
}